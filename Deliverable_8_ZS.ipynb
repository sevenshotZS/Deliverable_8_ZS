{
  "nbformat": 4,
  "nbformat_minor": 0,
  "metadata": {
    "colab": {
      "provenance": []
    },
    "kernelspec": {
      "name": "python3",
      "display_name": "Python 3"
    },
    "language_info": {
      "name": "python"
    }
  },
  "cells": [
    {
      "cell_type": "code",
      "execution_count": 24,
      "metadata": {
        "id": "x9oKr8VrhO5H"
      },
      "outputs": [],
      "source": [
        "import numpy as np"
      ]
    },
    {
      "cell_type": "code",
      "source": [
        "# Method to create a random list of integers with values between 10 and 50\n",
        "def random_list(size):\n",
        "  list = []\n",
        "  for i in range(size):\n",
        "    list.append(np.random.randint(10,50))\n",
        "  return list\n",
        "\n",
        "# Method to sum all elements of the list\n",
        "def sum_random (list):\n",
        "  sum = 0\n",
        "  for i in range(len(list)):\n",
        "    sum = sum + list[i]\n",
        "  return sum"
      ],
      "metadata": {
        "id": "CdPAX5pFheah"
      },
      "execution_count": 25,
      "outputs": []
    },
    {
      "cell_type": "code",
      "source": [
        "# A loop with conditional statement to check the user’s entry is between 5 and 15, or an error appears.\n",
        "while True:\n",
        "\n",
        "  n = input(\"Enter an integer number between 5 and 15: \")\n",
        "  try:\n",
        "    n = int(n)\n",
        "    if n >= 5 and n <= 15:\n",
        "      break\n",
        "    else:\n",
        "      print(\"Invalid entry. Please enter only an integer between 5 and 15.\")\n",
        "  except ValueError:\n",
        "    print(\"Invalid entry. Please enter only an integer between 5 and 15.\")"
      ],
      "metadata": {
        "colab": {
          "base_uri": "https://localhost:8080/"
        },
        "id": "Zf1L0_B2ikGX",
        "outputId": "b9c5c4ad-81b2-4b61-ef89-95482235f133"
      },
      "execution_count": 26,
      "outputs": [
        {
          "name": "stdout",
          "output_type": "stream",
          "text": [
            "Enter an integer number between 5 and 15: 7\n"
          ]
        }
      ]
    },
    {
      "cell_type": "code",
      "source": [
        "MyList = random_list(n)\n",
        "MyList"
      ],
      "metadata": {
        "colab": {
          "base_uri": "https://localhost:8080/"
        },
        "id": "nu7w73njjfLP",
        "outputId": "aa07c491-ad0e-434e-8503-e5dd2c9e3bb0"
      },
      "execution_count": 27,
      "outputs": [
        {
          "output_type": "execute_result",
          "data": {
            "text/plain": [
              "[49, 23, 40, 42, 11, 28, 17]"
            ]
          },
          "metadata": {},
          "execution_count": 27
        }
      ]
    },
    {
      "cell_type": "code",
      "source": [
        "MySum = sum_random(MyList)\n",
        "MySum"
      ],
      "metadata": {
        "colab": {
          "base_uri": "https://localhost:8080/"
        },
        "id": "M-WuFSs1jjD_",
        "outputId": "f44ddc20-687e-4d27-94b0-e0a3a51d31fd"
      },
      "execution_count": 28,
      "outputs": [
        {
          "output_type": "execute_result",
          "data": {
            "text/plain": [
              "210"
            ]
          },
          "metadata": {},
          "execution_count": 28
        }
      ]
    }
  ]
}